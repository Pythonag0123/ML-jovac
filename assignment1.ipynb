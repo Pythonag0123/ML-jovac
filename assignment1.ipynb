{
 "cells": [
  {
   "cell_type": "code",
   "execution_count": 1,
   "id": "a5d0ff97",
   "metadata": {},
   "outputs": [],
   "source": [
    "# Custom Exception\n",
    "class MyCustomError(Exception):\n",
    "    pass\n",
    "\n"
   ]
  },
  {
   "cell_type": "code",
   "execution_count": 2,
   "id": "9048a8f6",
   "metadata": {},
   "outputs": [],
   "source": [
    "# Make a 2D array\n",
    "data = [[1, 2], [3, 4], [5, 6]]"
   ]
  },
  {
   "cell_type": "code",
   "execution_count": 3,
   "id": "abfaf933",
   "metadata": {},
   "outputs": [],
   "source": [
    "# Check if it's 2D\n",
    "if not all(isinstance(row, list) for row in data):\n",
    "    raise MyCustomError(\"Not a 2D array!\")\n"
   ]
  },
  {
   "cell_type": "code",
   "execution_count": 4,
   "id": "f40a0e6d",
   "metadata": {},
   "outputs": [],
   "source": [
    "# Write to CSV\n",
    "import csv\n",
    "with open('my_array.csv', 'w', newline='') as f:\n",
    "    writer = csv.writer(f)\n",
    "    writer.writerows(data)"
   ]
  },
  {
   "cell_type": "code",
   "execution_count": 5,
   "id": "75b94dcb",
   "metadata": {},
   "outputs": [
    {
     "name": "stdout",
     "output_type": "stream",
     "text": [
      "Data read from CSV:\n",
      "[[1, 2], [3, 4], [5, 6]]\n"
     ]
    }
   ],
   "source": [
    "# Read from CSV\n",
    "with open('my_array.csv', 'r') as f:\n",
    "    reader = csv.reader(f)\n",
    "    result = [list(map(int, row)) for row in reader]\n",
    "\n",
    "print(\"Data read from CSV:\")\n",
    "print(result)\n"
   ]
  }
 ],
 "metadata": {
  "kernelspec": {
   "display_name": "Python 3",
   "language": "python",
   "name": "python3"
  },
  "language_info": {
   "codemirror_mode": {
    "name": "ipython",
    "version": 3
   },
   "file_extension": ".py",
   "mimetype": "text/x-python",
   "name": "python",
   "nbconvert_exporter": "python",
   "pygments_lexer": "ipython3",
   "version": "3.12.1"
  }
 },
 "nbformat": 4,
 "nbformat_minor": 5
}
