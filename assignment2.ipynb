{
 "cells": [
  {
   "cell_type": "code",
   "execution_count": 30,
   "id": "ec83060b",
   "metadata": {},
   "outputs": [
    {
     "name": "stdout",
     "output_type": "stream",
     "text": [
      "1D: [ 1  2  3  4  5  6  7  8  9 10] Shape: (10,) Size: 10 Type: int64\n",
      "2D:\n",
      " [[1 2 3]\n",
      " [4 5 6]\n",
      " [7 8 9]] Shape: (3, 3) Size: 9 Type: int64\n",
      "3D Shape: (3, 5, 3) Size: 45 Type: float64\n"
     ]
    }
   ],
   "source": [
    "import numpy as np\n",
    "\n",
    "# 1D array of 10 integers from 1 to 10\n",
    "a = np.arange(1, 11)\n",
    "\n",
    "# 2D array (3x3) from 1 to 9\n",
    "b = np.arange(1, 10).reshape(3, 3)\n",
    "\n",
    "# 3D array of shape (3, 5, 3) with random floats\n",
    "c = np.random.rand(3, 5, 3)\n",
    "\n",
    "# Display shape, size, datatype\n",
    "print(\"1D:\", a, \"Shape:\", a.shape, \"Size:\", a.size, \"Type:\", a.dtype)\n",
    "print(\"2D:\\n\", b, \"Shape:\", b.shape, \"Size:\", b.size, \"Type:\", b.dtype)\n",
    "print(\"3D Shape:\", c.shape, \"Size:\", c.size, \"Type:\", c.dtype)"
   ]
  },
  {
   "cell_type": "code",
   "execution_count": 31,
   "id": "be4b2df7",
   "metadata": {},
   "outputs": [
    {
     "name": "stdout",
     "output_type": "stream",
     "text": [
      "First 3: [10 20 30]\n",
      "Alternate elements: [10 30 50 70 90]\n",
      "Reversed: [90 80 70 60 50 40 30 20 10]\n"
     ]
    }
   ],
   "source": [
    "data = np.array([10, 20, 30, 40, 50, 60, 70, 80, 90])\n",
    "\n",
    "print(\"First 3:\", data[:3])\n",
    "print(\"Alternate elements:\", data[::2])\n",
    "print(\"Reversed:\", data[::-1])\n"
   ]
  },
  {
   "cell_type": "code",
   "execution_count": 32,
   "id": "5f1a84d5",
   "metadata": {},
   "outputs": [
    {
     "name": "stdout",
     "output_type": "stream",
     "text": [
      "A: [ 8  5  9  9 10]\n",
      "B: [8 3 2 4 8]\n",
      "Add: [16  8 11 13 18]\n",
      "Subtract: [0 2 7 5 2]\n",
      "Multiply: [64 15 18 36 80]\n",
      "Divide: [1.         1.66666667 4.5        2.25       1.25      ]\n",
      "Dot Product: 213\n",
      "Mean of A: 8.2\n",
      "Median of A: 9.0\n",
      "Standard Deviation of A: 1.7204650534085253\n",
      "Variance of A: 2.9599999999999995\n",
      "Max of B: 8 Index: 0\n",
      "Min of B: 2 Index: 2\n"
     ]
    }
   ],
   "source": [
    "### NumPy - Task 3: Math Operations\n",
    "A = np.random.randint(1, 21, 5)\n",
    "B = np.random.randint(1, 21, 5)\n",
    "\n",
    "print(\"A:\", A)\n",
    "print(\"B:\", B)\n",
    "print(\"Add:\", A + B)\n",
    "print(\"Subtract:\", A - B)\n",
    "print(\"Multiply:\", A * B)\n",
    "print(\"Divide:\", A / B)\n",
    "print(\"Dot Product:\", np.dot(A, B))\n",
    "print(\"Mean of A:\", np.mean(A))\n",
    "print(\"Median of A:\", np.median(A))\n",
    "print(\"Standard Deviation of A:\", np.std(A))\n",
    "print(\"Variance of A:\", np.var(A))\n",
    "print(\"Max of B:\", np.max(B), \"Index:\", np.argmax(B))\n",
    "print(\"Min of B:\", np.min(B), \"Index:\", np.argmin(B))"
   ]
  },
  {
   "cell_type": "code",
   "execution_count": 33,
   "id": "8d76d263",
   "metadata": {},
   "outputs": [
    {
     "name": "stdout",
     "output_type": "stream",
     "text": [
      "2D:\n",
      " [[ 1  2  3]\n",
      " [ 4  5  6]\n",
      " [ 7  8  9]\n",
      " [10 11 12]]\n",
      "3D:\n",
      " [[[ 1  2  3]\n",
      "  [ 4  5  6]]\n",
      "\n",
      " [[ 7  8  9]\n",
      "  [10 11 12]]]\n",
      "Transposed:\n",
      " [[ 1  4  7 10]\n",
      " [ 2  5  8 11]\n",
      " [ 3  6  9 12]]\n",
      "Shape of Transposed: (3, 4)\n"
     ]
    }
   ],
   "source": [
    "arr = np.arange(1, 13)\n",
    "\n",
    "arr2d = arr.reshape(4, 3)\n",
    "arr3d = arr.reshape(2, 2, 3)\n",
    "transposed = arr2d.T\n",
    "\n",
    "print(\"2D:\\n\", arr2d)\n",
    "print(\"3D:\\n\", arr3d)\n",
    "print(\"Transposed:\\n\", transposed)\n",
    "print(\"Shape of Transposed:\", transposed.shape)"
   ]
  },
  {
   "cell_type": "code",
   "execution_count": 34,
   "id": "6fded943",
   "metadata": {},
   "outputs": [
    {
     "name": "stdout",
     "output_type": "stream",
     "text": [
      "Array: [45 48 38 11 28 32 45 13 26 19 24 28 20 22 25]\n",
      "Greater than 25: [45 48 38 28 32 45 26 28]\n",
      "After replacing <30 with 0: [45 48 38  0  0 32 45  0  0  0  0  0  0  0  0]\n",
      "Count divisible by 5: 12\n"
     ]
    }
   ],
   "source": [
    "arr = np.random.randint(10, 51, 15)\n",
    "\n",
    "print(\"Array:\", arr)\n",
    "print(\"Greater than 25:\", arr[arr > 25])\n",
    "\n",
    "arr[arr < 30] = 0\n",
    "print(\"After replacing <30 with 0:\", arr)\n",
    "\n",
    "count_div_5 = np.sum(arr % 5 == 0)\n",
    "print(\"Count divisible by 5:\", count_div_5)\n"
   ]
  },
  {
   "cell_type": "code",
   "execution_count": 35,
   "id": "e60fac22",
   "metadata": {},
   "outputs": [
    {
     "name": "stdout",
     "output_type": "stream",
     "text": [
      "Equally spaced: [0.         0.11111111 0.22222222 0.33333333 0.44444444 0.55555556\n",
      " 0.66666667 0.77777778 0.88888889 1.        ]\n",
      "Identity matrix:\n",
      " [[1. 0. 0. 0.]\n",
      " [0. 1. 0. 0.]\n",
      " [0. 0. 1. 0.]\n",
      " [0. 0. 0. 1.]]\n",
      "Sorted: [ 4  7 12 16 20 21 22 26 44 51 51 56 70 71 81 84 90 91 96 97]\n",
      "Top 5: [84 90 91 96 97]\n"
     ]
    }
   ],
   "source": [
    "# 10 equally spaced values from 0 to 1\n",
    "print(\"Equally spaced:\", np.linspace(0, 1, 10))\n",
    "\n",
    "# 4x4 Identity matrix\n",
    "print(\"Identity matrix:\\n\", np.eye(4))\n",
    "\n",
    "# Sorted array and 5 largest values\n",
    "arr = np.random.randint(1, 101, 20)\n",
    "sorted_arr = np.sort(arr)\n",
    "print(\"Sorted:\", sorted_arr)\n",
    "print(\"Top 5:\", sorted_arr[-5:])\n"
   ]
  },
  {
   "cell_type": "code",
   "execution_count": 36,
   "id": "175cb75e",
   "metadata": {},
   "outputs": [
    {
     "name": "stdout",
     "output_type": "stream",
     "text": [
      "Determinant: 1.034076766241894e+50\n",
      "Time taken: 0.003225564956665039 seconds\n"
     ]
    }
   ],
   "source": [
    "import time\n",
    "\n",
    "X = np.random.rand(100, 100)\n",
    "Y = np.random.rand(100, 100)\n",
    "\n",
    "start = time.time()\n",
    "Z = np.dot(X, Y)\n",
    "\n",
    "# Inverse & Determinant only if it's square and invertible\n",
    "if Z.shape[0] == Z.shape[1]:\n",
    "    try:\n",
    "        det = np.linalg.det(Z)\n",
    "        inv = np.linalg.inv(Z)\n",
    "        print(\"Determinant:\", det)\n",
    "    except np.linalg.LinAlgError:\n",
    "        print(\"Matrix not invertible.\")\n",
    "\n",
    "end = time.time()\n",
    "print(\"Time taken:\", end - start, \"seconds\")\n"
   ]
  },
  {
   "cell_type": "code",
   "execution_count": 37,
   "id": "740b3521",
   "metadata": {},
   "outputs": [
    {
     "name": "stdout",
     "output_type": "stream",
     "text": [
      "First 3 elements:\n",
      "A    25\n",
      "B    30\n",
      "C    35\n",
      "dtype: int64\n",
      "Mean: 35.0\n",
      "Median: 35.0\n",
      "Standard Deviation: 7.905694150420948\n"
     ]
    }
   ],
   "source": [
    "import pandas as pd\n",
    "\n",
    "data = [25, 30, 35, 40, 45]\n",
    "s = pd.Series(data, index=['A', 'B', 'C', 'D', 'E'])\n",
    "\n",
    "print(\"First 3 elements:\")\n",
    "print(s.head(3))\n",
    "\n",
    "print(\"Mean:\", s.mean())\n",
    "print(\"Median:\", s.median())\n",
    "print(\"Standard Deviation:\", s.std())\n"
   ]
  },
  {
   "cell_type": "code",
   "execution_count": 38,
   "id": "64b0458d",
   "metadata": {},
   "outputs": [
    {
     "name": "stdout",
     "output_type": "stream",
     "text": [
      "      Name  Age  Gender  Marks\n",
      "0   Khushi   20  Female     85\n",
      "1  Nischay   22    Male     78\n",
      "Columns: ['Name', 'Age', 'Gender', 'Marks']\n",
      "Data types:\n",
      " Name      object\n",
      "Age        int64\n",
      "Gender    object\n",
      "Marks      int64\n",
      "dtype: object\n",
      "Summary:\n",
      "              Age      Marks\n",
      "count   5.000000   5.000000\n",
      "mean   20.400000  83.400000\n",
      "std     1.140175   7.334848\n",
      "min    19.000000  74.000000\n",
      "25%    20.000000  78.000000\n",
      "50%    20.000000  85.000000\n",
      "75%    21.000000  88.000000\n",
      "max    22.000000  92.000000\n",
      "      Name  Age  Gender  Marks  Passed\n",
      "0   Khushi   20  Female     85    True\n",
      "1  Nischay   22    Male     78   False\n",
      "2    Jacky   19    male     92    True\n",
      "3   Samuel   21    Male     74   False\n",
      "4    Sneha   20  Female     88    True\n"
     ]
    }
   ],
   "source": [
    "df = pd.DataFrame({\n",
    "    'Name': ['Khushi', 'Nischay','Jacky','Samuel','Sneha'],\n",
    "    'Age': [20, 22, 19, 21, 20],\n",
    "    'Gender': ['Female', 'Male', 'male', 'Male', 'Female'],\n",
    "    'Marks': [85, 78, 92, 74, 88]\n",
    "})\n",
    "\n",
    "# First 2 rows\n",
    "print(df.head(2))\n",
    "\n",
    "# Column names\n",
    "print(\"Columns:\", df.columns.tolist())\n",
    "\n",
    "# Data types\n",
    "print(\"Data types:\\n\", df.dtypes)\n",
    "\n",
    "# Summary stats\n",
    "print(\"Summary:\\n\", df.describe())\n",
    "\n",
    "# Add 'Passed' column\n",
    "df['Passed'] = df['Marks'] >= 80\n",
    "print(df)\n"
   ]
  },
  {
   "cell_type": "code",
   "execution_count": 39,
   "id": "fe45b8b5",
   "metadata": {},
   "outputs": [
    {
     "name": "stdout",
     "output_type": "stream",
     "text": [
      "      Name  Marks\n",
      "0   Khushi     85\n",
      "1  Nischay     78\n",
      "2    Jacky     92\n",
      "3   Samuel     74\n",
      "4    Sneha     88\n",
      "Marks > 80:\n",
      "      Name  Age  Gender  Marks  Passed\n",
      "0  Khushi   20  Female     85    True\n",
      "2   Jacky   19    male     92    True\n",
      "4   Sneha   20  Female     88    True\n",
      "Topper:\n",
      "     Name  Age Gender  Marks  Passed\n",
      "2  Jacky   19   male     92    True\n"
     ]
    }
   ],
   "source": [
    "# Name and Marks columns\n",
    "print(df[['Name', 'Marks']])\n",
    "\n",
    "# Students with Marks > 80\n",
    "print(\"Marks > 80:\\n\", df[df['Marks'] > 80])\n",
    "\n",
    "# Student with highest marks\n",
    "print(\"Topper:\\n\", df[df['Marks'] == df['Marks'].max()])\n"
   ]
  },
  {
   "cell_type": "code",
   "execution_count": 40,
   "id": "7bd421c8",
   "metadata": {},
   "outputs": [
    {
     "name": "stdout",
     "output_type": "stream",
     "text": [
      "Missing values:\n",
      "     Name    Age  Gender  Marks  Passed\n",
      "0  False  False   False  False   False\n",
      "1  False  False   False   True   False\n",
      "2  False  False   False  False   False\n",
      "3  False  False   False  False   False\n",
      "4  False   True   False  False   False\n",
      "Cleaned Data:\n",
      "       Name   Age  Gender  Marks  Passed\n",
      "0   Khushi  20.0  Female  85.00    True\n",
      "1  Nischay  22.0    Male  84.75   False\n",
      "2    Jacky  19.0    male  92.00    True\n",
      "3   Samuel  21.0    Male  74.00   False\n"
     ]
    }
   ],
   "source": [
    "# Introduce missing values\n",
    "df.loc[1, 'Marks'] = None\n",
    "df.loc[4, 'Age'] = None\n",
    "\n",
    "# Find missing values\n",
    "print(\"Missing values:\\n\", df.isnull())\n",
    "\n",
    "# Fill missing Marks with mean\n",
    "df['Marks'] = df['Marks'].fillna(df['Marks'].mean())\n",
    "\n",
    "# Drop rows with missing Age\n",
    "df = df.dropna(subset=['Age'])\n",
    "\n",
    "print(\"Cleaned Data:\\n\", df)\n"
   ]
  },
  {
   "cell_type": "code",
   "execution_count": 41,
   "id": "87ba6c8f",
   "metadata": {},
   "outputs": [
    {
     "name": "stdout",
     "output_type": "stream",
     "text": [
      "Mean Age & Marks:\n",
      "          Age   Marks\n",
      "Gender              \n",
      "Female  20.0  85.000\n",
      "Male    21.5  79.375\n",
      "male    19.0  92.000\n",
      "Count by Gender:\n",
      " Gender\n",
      "Female    1\n",
      "Male      2\n",
      "male      1\n",
      "dtype: int64\n"
     ]
    }
   ],
   "source": [
    "# Group by Gender\n",
    "grouped = df.groupby('Gender')\n",
    "\n",
    "# Mean age and marks by gender\n",
    "print(\"Mean Age & Marks:\\n\", grouped[['Age', 'Marks']].mean())\n",
    "\n",
    "# Count of students in each gender\n",
    "print(\"Count by Gender:\\n\", grouped.size())\n"
   ]
  },
  {
   "cell_type": "code",
   "execution_count": 42,
   "id": "4317ceb2",
   "metadata": {},
   "outputs": [
    {
     "name": "stdout",
     "output_type": "stream",
     "text": [
      "      Name   Age  Gender  Marks  Passed\n",
      "0   Khushi  20.0  Female  85.00    True\n",
      "1  Nischay  22.0    Male  84.75   False\n",
      "2    Jacky  19.0    male  92.00    True\n",
      "3   Samuel  21.0    Male  74.00   False\n"
     ]
    }
   ],
   "source": [
    "# Save to CSV\n",
    "df.to_csv(\"students_data.csv\", index=False)\n",
    "\n",
    "# Read from CSV\n",
    "new_df = pd.read_csv(\"students_data.csv\")\n",
    "\n",
    "# First 5 rows\n",
    "print(new_df.head())\n"
   ]
  },
  {
   "cell_type": "code",
   "execution_count": 43,
   "id": "70a81bc3",
   "metadata": {},
   "outputs": [
    {
     "name": "stdout",
     "output_type": "stream",
     "text": [
      "<class 'pandas.core.frame.DataFrame'>\n",
      "RangeIndex: 891 entries, 0 to 890\n",
      "Data columns (total 15 columns):\n",
      " #   Column       Non-Null Count  Dtype   \n",
      "---  ------       --------------  -----   \n",
      " 0   survived     891 non-null    int64   \n",
      " 1   pclass       891 non-null    int64   \n",
      " 2   sex          891 non-null    object  \n",
      " 3   age          714 non-null    float64 \n",
      " 4   sibsp        891 non-null    int64   \n",
      " 5   parch        891 non-null    int64   \n",
      " 6   fare         891 non-null    float64 \n",
      " 7   embarked     889 non-null    object  \n",
      " 8   class        891 non-null    category\n",
      " 9   who          891 non-null    object  \n",
      " 10  adult_male   891 non-null    bool    \n",
      " 11  deck         203 non-null    category\n",
      " 12  embark_town  889 non-null    object  \n",
      " 13  alive        891 non-null    object  \n",
      " 14  alone        891 non-null    bool    \n",
      "dtypes: bool(2), category(2), float64(2), int64(4), object(5)\n",
      "memory usage: 80.7+ KB\n",
      "None\n",
      "          survived      pclass   sex         age       sibsp       parch  \\\n",
      "count   891.000000  891.000000   891  714.000000  891.000000  891.000000   \n",
      "unique         NaN         NaN     2         NaN         NaN         NaN   \n",
      "top            NaN         NaN  male         NaN         NaN         NaN   \n",
      "freq           NaN         NaN   577         NaN         NaN         NaN   \n",
      "mean      0.383838    2.308642   NaN   29.699118    0.523008    0.381594   \n",
      "std       0.486592    0.836071   NaN   14.526497    1.102743    0.806057   \n",
      "min       0.000000    1.000000   NaN    0.420000    0.000000    0.000000   \n",
      "25%       0.000000    2.000000   NaN   20.125000    0.000000    0.000000   \n",
      "50%       0.000000    3.000000   NaN   28.000000    0.000000    0.000000   \n",
      "75%       1.000000    3.000000   NaN   38.000000    1.000000    0.000000   \n",
      "max       1.000000    3.000000   NaN   80.000000    8.000000    6.000000   \n",
      "\n",
      "              fare embarked  class  who adult_male deck  embark_town alive  \\\n",
      "count   891.000000      889    891  891        891  203          889   891   \n",
      "unique         NaN        3      3    3          2    7            3     2   \n",
      "top            NaN        S  Third  man       True    C  Southampton    no   \n",
      "freq           NaN      644    491  537        537   59          644   549   \n",
      "mean     32.204208      NaN    NaN  NaN        NaN  NaN          NaN   NaN   \n",
      "std      49.693429      NaN    NaN  NaN        NaN  NaN          NaN   NaN   \n",
      "min       0.000000      NaN    NaN  NaN        NaN  NaN          NaN   NaN   \n",
      "25%       7.910400      NaN    NaN  NaN        NaN  NaN          NaN   NaN   \n",
      "50%      14.454200      NaN    NaN  NaN        NaN  NaN          NaN   NaN   \n",
      "75%      31.000000      NaN    NaN  NaN        NaN  NaN          NaN   NaN   \n",
      "max     512.329200      NaN    NaN  NaN        NaN  NaN          NaN   NaN   \n",
      "\n",
      "       alone  \n",
      "count    891  \n",
      "unique     2  \n",
      "top     True  \n",
      "freq     537  \n",
      "mean     NaN  \n",
      "std      NaN  \n",
      "min      NaN  \n",
      "25%      NaN  \n",
      "50%      NaN  \n",
      "75%      NaN  \n",
      "max      NaN  \n",
      "survived         0\n",
      "pclass           0\n",
      "sex              0\n",
      "age            177\n",
      "sibsp            0\n",
      "parch            0\n",
      "fare             0\n",
      "embarked         2\n",
      "class            0\n",
      "who              0\n",
      "adult_male       0\n",
      "deck           688\n",
      "embark_town      2\n",
      "alive            0\n",
      "alone            0\n",
      "dtype: int64\n"
     ]
    },
    {
     "data": {
      "image/png": "[encoded data removed]",
      "text/plain": [
       "<Figure size 640x480 with 1 Axes>"
      ]
     },
     "metadata": {},
     "output_type": "display_data"
    }
   ],
   "source": [
    "# Example using seaborn built-in dataset\n",
    "import seaborn as sns\n",
    "import matplotlib.pyplot as plt\n",
    "\n",
    "# Load Titanic dataset\n",
    "df = sns.load_dataset('titanic')\n",
    "\n",
    "# Basic info\n",
    "print(df.info())\n",
    "\n",
    "# Summary\n",
    "print(df.describe(include='all'))\n",
    "\n",
    "# Missing values\n",
    "print(df.isnull().sum())\n",
    "\n",
    "# Visualize age distribution\n",
    "df['age'].hist(bins=20)\n",
    "plt.title(\"Age Distribution\")\n",
    "plt.xlabel(\"Age\")\n",
    "plt.ylabel(\"Count\")\n",
    "plt.show()\n",
    "\n",
    "# Comment: Most passengers were in the age range 20-40.\n"
   ]
  },
  {
   "cell_type": "code",
   "execution_count": null,
   "id": "57ea403b",
   "metadata": {},
   "outputs": [],
   "source": []
  }
 ],
 "metadata": {
  "kernelspec": {
   "display_name": "Python 3",
   "language": "python",
   "name": "python3"
  },
  "language_info": {
   "codemirror_mode": {
    "name": "ipython",
    "version": 3
   },
   "file_extension": ".py",
   "mimetype": "text/x-python",
   "name": "python",
   "nbconvert_exporter": "python",
   "pygments_lexer": "ipython3",
   "version": "3.12.1"
  }
 },
 "nbformat": 4,
 "nbformat_minor": 5
}
